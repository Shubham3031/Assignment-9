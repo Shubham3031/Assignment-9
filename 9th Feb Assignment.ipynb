{
 "cells": [
  {
   "cell_type": "code",
   "execution_count": 1,
   "id": "ede81422-f692-42b0-a492-6fdab492e600",
   "metadata": {},
   "outputs": [],
   "source": [
    "# 1.Ans.\n",
    "class vehicle:\n",
    "    def __init__(self,name_of_vehicle,max_speed, average_of_vehicle):\n",
    "        self.name_of_vehicle = name_of_vehicle\n",
    "        self.max_speed = max_speed\n",
    "        self.average_of_vehicle = average_of_vehicle\n",
    "        "
   ]
  },
  {
   "cell_type": "code",
   "execution_count": 4,
   "id": "5bbee179-0a86-4db5-a876-59f784fad5c7",
   "metadata": {},
   "outputs": [],
   "source": [
    "car = vehicle(\"Fortuner\",300,100)"
   ]
  },
  {
   "cell_type": "code",
   "execution_count": 5,
   "id": "fd927040-53b3-43bd-b37f-cb9d2103a3ca",
   "metadata": {},
   "outputs": [
    {
     "name": "stdout",
     "output_type": "stream",
     "text": [
      "Fortuner\n",
      "300\n",
      "100\n"
     ]
    }
   ],
   "source": [
    "print(car.name_of_vehicle)\n",
    "print(car.max_speed)\n",
    "print(car.average_of_vehicle)"
   ]
  },
  {
   "cell_type": "code",
   "execution_count": 16,
   "id": "8b98d5da-f483-4aad-800b-7427432e0467",
   "metadata": {},
   "outputs": [],
   "source": [
    "# 2.Ans.\n",
    "\n",
    "class Car(vehicle):\n",
    "    def seating_capacity(self,capacity):\n",
    "        return f\"{self.name_of_vehicle} has a seating capacity of {capacity}\""
   ]
  },
  {
   "cell_type": "code",
   "execution_count": 18,
   "id": "5b84a520-0809-449f-9593-4125abcb4ccd",
   "metadata": {},
   "outputs": [
    {
     "name": "stdout",
     "output_type": "stream",
     "text": [
      "Fortuner has a seating capacity of 6\n"
     ]
    }
   ],
   "source": [
    "car = Car(\"Fortuner\",300,100)\n",
    "print(car.seating_capacity(6))"
   ]
  },
  {
   "cell_type": "code",
   "execution_count": 20,
   "id": "104cf0d6-86e1-46fd-91f6-4bfdd3bbf3dd",
   "metadata": {},
   "outputs": [],
   "source": [
    "# 3.Ans.\n",
    "\n",
    "\"\"\"\n",
    "When a class is derived from more than one base class \n",
    "it is called multiple Inheritance. \n",
    "The derived class inherits all the features of the base case.\n",
    "Syntax:\n",
    "\n",
    "Class Base1:\n",
    "       Body of the class\n",
    "\n",
    "Class Base2:\n",
    "     Body of the class\n",
    "\n",
    "Class Derived(Base1, Base2):\n",
    "     Body of the class\n",
    "        \"\"\"\n",
    " # Example\n",
    "class Lion:\n",
    "    def lion_info(self):\n",
    "        print(\"The king of forest\")\n",
    "class Tiger:\n",
    "    def tiger_info(self):\n",
    "        print(\"Faster runner\")\n",
    "class Animal(Lion,Tiger):\n",
    "    pass\n",
    "            \n"
   ]
  },
  {
   "cell_type": "code",
   "execution_count": 21,
   "id": "0eef4030-432d-415f-9d29-854f6ed1b2e8",
   "metadata": {},
   "outputs": [
    {
     "name": "stdout",
     "output_type": "stream",
     "text": [
      "The king of forest\n",
      "Faster runner\n"
     ]
    }
   ],
   "source": [
    "a = Animal()\n",
    "a.lion_info()\n",
    "a.tiger_info()"
   ]
  },
  {
   "cell_type": "code",
   "execution_count": 29,
   "id": "99cfe453-7d40-4e48-8320-60e70a5c4129",
   "metadata": {},
   "outputs": [],
   "source": [
    "# 4.Ans.\n",
    "\n",
    "\"\"\"\n",
    "Basically, the main purpose of using getters and setters in \n",
    "object-oriented programs is to ensure data encapsulation.\n",
    "\n",
    "Getters and Setters in python are often used when:\n",
    "\n",
    "We use getters & setters to add validation logic around getting and setting a value.\n",
    "\n",
    "To avoid direct access of a class field i.e. private variables cannot be accessed \n",
    "directly or modified by external user.\n",
    "\"\"\"\n",
    " # Getter and Setter\n",
    "    \n",
    "class Person:\n",
    "    def __init__(self, name, age):\n",
    "        self._name = name\n",
    "        self._age = age\n",
    "    \n",
    "    @property\n",
    "    def name(self):\n",
    "        return self._name\n",
    "    \n",
    "    @name.setter\n",
    "    def name(self, value):\n",
    "        self._name = value\n",
    "    \n",
    "    @property\n",
    "    def age(self):\n",
    "        return self._age\n",
    "    \n",
    "    @age.setter\n",
    "    def age(self, value):\n",
    "        self._age = value\n",
    "\n",
    "        \n",
    "    \n",
    "        \n",
    "    "
   ]
  },
  {
   "cell_type": "code",
   "execution_count": 30,
   "id": "347d7c89-bb37-465a-a86b-c6f00e9617e4",
   "metadata": {},
   "outputs": [
    {
     "name": "stdout",
     "output_type": "stream",
     "text": [
      "Shubham\n",
      "21\n"
     ]
    }
   ],
   "source": [
    "person = Person(\"Shubham\",21)\n",
    "print(person.name)\n",
    "print(person.age)"
   ]
  },
  {
   "cell_type": "code",
   "execution_count": 31,
   "id": "1bad9ff7-a61c-4862-829d-49c06cd6c511",
   "metadata": {},
   "outputs": [
    {
     "name": "stdout",
     "output_type": "stream",
     "text": [
      "Mishra\n",
      "22\n"
     ]
    }
   ],
   "source": [
    "person.name = \"Mishra\"\n",
    "person.age = 22\n",
    "print(person.name)\n",
    "print(person.age)"
   ]
  },
  {
   "cell_type": "code",
   "execution_count": 33,
   "id": "4d796907-55b3-47ba-88ed-2810362cce73",
   "metadata": {},
   "outputs": [
    {
     "name": "stdout",
     "output_type": "stream",
     "text": [
      "The animal makes a sound.\n",
      "Meow\n",
      "bark\n"
     ]
    }
   ],
   "source": [
    "# 5.Ans.\n",
    "\n",
    "\"\"\"\n",
    "Method overriding is an ability of any object-oriented programming \n",
    "language that allows a subclass or child class \n",
    "to provide a specific implementation of a method that is already \n",
    "provided by one of its super-classes or parent classes.\n",
    "\n",
    "When a method in a subclass has the same name, same parameters\n",
    "or signature and same return type(or sub-type) as a method in its \n",
    "super-class, then the method in the subclass is said to override the method in the super-class.\n",
    "\"\"\"\n",
    "\n",
    " #Example\n",
    "    \n",
    "class Animal:\n",
    "    def make_sound(self):\n",
    "        print(\"The animal makes a sound.\")\n",
    "\n",
    "class Cat(Animal):\n",
    "    def make_sound(self):\n",
    "        print(\"Meow\")\n",
    "\n",
    "class Dog(Animal):\n",
    "    def make_sound(self):\n",
    "        print(\"bark\")\n",
    "        \n",
    "animal = Animal()\n",
    "cat = Cat()\n",
    "dog = Dog()\n",
    "\n",
    "animal.make_sound() \n",
    "cat.make_sound()    \n",
    "dog.make_sound()    \n"
   ]
  },
  {
   "cell_type": "code",
   "execution_count": null,
   "id": "2f99f48f-4ec9-4547-a5de-fa837a0b9d8e",
   "metadata": {},
   "outputs": [],
   "source": []
  }
 ],
 "metadata": {
  "kernelspec": {
   "display_name": "Python 3 (ipykernel)",
   "language": "python",
   "name": "python3"
  },
  "language_info": {
   "codemirror_mode": {
    "name": "ipython",
    "version": 3
   },
   "file_extension": ".py",
   "mimetype": "text/x-python",
   "name": "python",
   "nbconvert_exporter": "python",
   "pygments_lexer": "ipython3",
   "version": "3.10.6"
  }
 },
 "nbformat": 4,
 "nbformat_minor": 5
}
